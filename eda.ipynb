{
 "cells": [
  {
   "cell_type": "code",
   "execution_count": 2,
   "metadata": {},
   "outputs": [],
   "source": [
    "import pandas as pd"
   ]
  },
  {
   "cell_type": "code",
   "execution_count": 3,
   "metadata": {},
   "outputs": [],
   "source": [
    "dataset = pd.read_csv('C:/Users/Ai/Box/Data_science_project_datasets/amz_uk_processed_data/amz_uk_processed_data.csv')"
   ]
  },
  {
   "cell_type": "code",
   "execution_count": 4,
   "metadata": {},
   "outputs": [
    {
     "data": {
      "text/html": [
       "<div>\n",
       "<style scoped>\n",
       "    .dataframe tbody tr th:only-of-type {\n",
       "        vertical-align: middle;\n",
       "    }\n",
       "\n",
       "    .dataframe tbody tr th {\n",
       "        vertical-align: top;\n",
       "    }\n",
       "\n",
       "    .dataframe thead th {\n",
       "        text-align: right;\n",
       "    }\n",
       "</style>\n",
       "<table border=\"1\" class=\"dataframe\">\n",
       "  <thead>\n",
       "    <tr style=\"text-align: right;\">\n",
       "      <th></th>\n",
       "      <th>asin</th>\n",
       "      <th>title</th>\n",
       "      <th>imgUrl</th>\n",
       "      <th>productURL</th>\n",
       "      <th>stars</th>\n",
       "      <th>reviews</th>\n",
       "      <th>price</th>\n",
       "      <th>isBestSeller</th>\n",
       "      <th>boughtInLastMonth</th>\n",
       "      <th>categoryName</th>\n",
       "    </tr>\n",
       "  </thead>\n",
       "  <tbody>\n",
       "    <tr>\n",
       "      <th>0</th>\n",
       "      <td>B09B96TG33</td>\n",
       "      <td>Echo Dot (5th generation, 2022 release) | Big ...</td>\n",
       "      <td>https://m.media-amazon.com/images/I/71C3lbbeLs...</td>\n",
       "      <td>https://www.amazon.co.uk/dp/B09B96TG33</td>\n",
       "      <td>4.7</td>\n",
       "      <td>15308</td>\n",
       "      <td>21.99</td>\n",
       "      <td>False</td>\n",
       "      <td>0</td>\n",
       "      <td>Hi-Fi Speakers</td>\n",
       "    </tr>\n",
       "    <tr>\n",
       "      <th>1</th>\n",
       "      <td>B01HTH3C8S</td>\n",
       "      <td>Anker Soundcore mini, Super-Portable Bluetooth...</td>\n",
       "      <td>https://m.media-amazon.com/images/I/61c5rSxwP0...</td>\n",
       "      <td>https://www.amazon.co.uk/dp/B01HTH3C8S</td>\n",
       "      <td>4.7</td>\n",
       "      <td>98099</td>\n",
       "      <td>23.99</td>\n",
       "      <td>True</td>\n",
       "      <td>0</td>\n",
       "      <td>Hi-Fi Speakers</td>\n",
       "    </tr>\n",
       "    <tr>\n",
       "      <th>2</th>\n",
       "      <td>B09B8YWXDF</td>\n",
       "      <td>Echo Dot (5th generation, 2022 release) | Big ...</td>\n",
       "      <td>https://m.media-amazon.com/images/I/61j3SEUjMJ...</td>\n",
       "      <td>https://www.amazon.co.uk/dp/B09B8YWXDF</td>\n",
       "      <td>4.7</td>\n",
       "      <td>15308</td>\n",
       "      <td>21.99</td>\n",
       "      <td>False</td>\n",
       "      <td>0</td>\n",
       "      <td>Hi-Fi Speakers</td>\n",
       "    </tr>\n",
       "    <tr>\n",
       "      <th>3</th>\n",
       "      <td>B09B8T5VGV</td>\n",
       "      <td>Echo Dot with clock (5th generation, 2022 rele...</td>\n",
       "      <td>https://m.media-amazon.com/images/I/71yf6yTNWS...</td>\n",
       "      <td>https://www.amazon.co.uk/dp/B09B8T5VGV</td>\n",
       "      <td>4.7</td>\n",
       "      <td>7205</td>\n",
       "      <td>31.99</td>\n",
       "      <td>False</td>\n",
       "      <td>0</td>\n",
       "      <td>Hi-Fi Speakers</td>\n",
       "    </tr>\n",
       "    <tr>\n",
       "      <th>4</th>\n",
       "      <td>B09WX6QD65</td>\n",
       "      <td>Introducing Echo Pop | Full sound compact Wi-F...</td>\n",
       "      <td>https://m.media-amazon.com/images/I/613dEoF9-r...</td>\n",
       "      <td>https://www.amazon.co.uk/dp/B09WX6QD65</td>\n",
       "      <td>4.6</td>\n",
       "      <td>1881</td>\n",
       "      <td>17.99</td>\n",
       "      <td>False</td>\n",
       "      <td>0</td>\n",
       "      <td>Hi-Fi Speakers</td>\n",
       "    </tr>\n",
       "  </tbody>\n",
       "</table>\n",
       "</div>"
      ],
      "text/plain": [
       "         asin                                              title  \\\n",
       "0  B09B96TG33  Echo Dot (5th generation, 2022 release) | Big ...   \n",
       "1  B01HTH3C8S  Anker Soundcore mini, Super-Portable Bluetooth...   \n",
       "2  B09B8YWXDF  Echo Dot (5th generation, 2022 release) | Big ...   \n",
       "3  B09B8T5VGV  Echo Dot with clock (5th generation, 2022 rele...   \n",
       "4  B09WX6QD65  Introducing Echo Pop | Full sound compact Wi-F...   \n",
       "\n",
       "                                              imgUrl  \\\n",
       "0  https://m.media-amazon.com/images/I/71C3lbbeLs...   \n",
       "1  https://m.media-amazon.com/images/I/61c5rSxwP0...   \n",
       "2  https://m.media-amazon.com/images/I/61j3SEUjMJ...   \n",
       "3  https://m.media-amazon.com/images/I/71yf6yTNWS...   \n",
       "4  https://m.media-amazon.com/images/I/613dEoF9-r...   \n",
       "\n",
       "                               productURL  stars  reviews  price  \\\n",
       "0  https://www.amazon.co.uk/dp/B09B96TG33    4.7    15308  21.99   \n",
       "1  https://www.amazon.co.uk/dp/B01HTH3C8S    4.7    98099  23.99   \n",
       "2  https://www.amazon.co.uk/dp/B09B8YWXDF    4.7    15308  21.99   \n",
       "3  https://www.amazon.co.uk/dp/B09B8T5VGV    4.7     7205  31.99   \n",
       "4  https://www.amazon.co.uk/dp/B09WX6QD65    4.6     1881  17.99   \n",
       "\n",
       "   isBestSeller  boughtInLastMonth    categoryName  \n",
       "0         False                  0  Hi-Fi Speakers  \n",
       "1          True                  0  Hi-Fi Speakers  \n",
       "2         False                  0  Hi-Fi Speakers  \n",
       "3         False                  0  Hi-Fi Speakers  \n",
       "4         False                  0  Hi-Fi Speakers  "
      ]
     },
     "execution_count": 4,
     "metadata": {},
     "output_type": "execute_result"
    }
   ],
   "source": [
    "dataset.head(5)"
   ]
  },
  {
   "cell_type": "code",
   "execution_count": 5,
   "metadata": {},
   "outputs": [
    {
     "data": {
      "text/html": [
       "<div>\n",
       "<style scoped>\n",
       "    .dataframe tbody tr th:only-of-type {\n",
       "        vertical-align: middle;\n",
       "    }\n",
       "\n",
       "    .dataframe tbody tr th {\n",
       "        vertical-align: top;\n",
       "    }\n",
       "\n",
       "    .dataframe thead th {\n",
       "        text-align: right;\n",
       "    }\n",
       "</style>\n",
       "<table border=\"1\" class=\"dataframe\">\n",
       "  <thead>\n",
       "    <tr style=\"text-align: right;\">\n",
       "      <th></th>\n",
       "      <th>stars</th>\n",
       "      <th>reviews</th>\n",
       "      <th>price</th>\n",
       "      <th>boughtInLastMonth</th>\n",
       "    </tr>\n",
       "  </thead>\n",
       "  <tbody>\n",
       "    <tr>\n",
       "      <th>count</th>\n",
       "      <td>2.222742e+06</td>\n",
       "      <td>2.222742e+06</td>\n",
       "      <td>2.222742e+06</td>\n",
       "      <td>2.222742e+06</td>\n",
       "    </tr>\n",
       "    <tr>\n",
       "      <th>mean</th>\n",
       "      <td>2.031870e+00</td>\n",
       "      <td>3.821617e+02</td>\n",
       "      <td>9.425737e+01</td>\n",
       "      <td>1.856902e+01</td>\n",
       "    </tr>\n",
       "    <tr>\n",
       "      <th>std</th>\n",
       "      <td>2.185497e+00</td>\n",
       "      <td>5.020752e+03</td>\n",
       "      <td>3.606225e+02</td>\n",
       "      <td>1.919030e+02</td>\n",
       "    </tr>\n",
       "    <tr>\n",
       "      <th>min</th>\n",
       "      <td>0.000000e+00</td>\n",
       "      <td>0.000000e+00</td>\n",
       "      <td>0.000000e+00</td>\n",
       "      <td>0.000000e+00</td>\n",
       "    </tr>\n",
       "    <tr>\n",
       "      <th>25%</th>\n",
       "      <td>0.000000e+00</td>\n",
       "      <td>0.000000e+00</td>\n",
       "      <td>1.000000e+01</td>\n",
       "      <td>0.000000e+00</td>\n",
       "    </tr>\n",
       "    <tr>\n",
       "      <th>50%</th>\n",
       "      <td>0.000000e+00</td>\n",
       "      <td>0.000000e+00</td>\n",
       "      <td>1.990000e+01</td>\n",
       "      <td>0.000000e+00</td>\n",
       "    </tr>\n",
       "    <tr>\n",
       "      <th>75%</th>\n",
       "      <td>4.400000e+00</td>\n",
       "      <td>4.400000e+01</td>\n",
       "      <td>4.771000e+01</td>\n",
       "      <td>0.000000e+00</td>\n",
       "    </tr>\n",
       "    <tr>\n",
       "      <th>max</th>\n",
       "      <td>5.000000e+00</td>\n",
       "      <td>1.356658e+06</td>\n",
       "      <td>1.000000e+05</td>\n",
       "      <td>5.000000e+04</td>\n",
       "    </tr>\n",
       "  </tbody>\n",
       "</table>\n",
       "</div>"
      ],
      "text/plain": [
       "              stars       reviews         price  boughtInLastMonth\n",
       "count  2.222742e+06  2.222742e+06  2.222742e+06       2.222742e+06\n",
       "mean   2.031870e+00  3.821617e+02  9.425737e+01       1.856902e+01\n",
       "std    2.185497e+00  5.020752e+03  3.606225e+02       1.919030e+02\n",
       "min    0.000000e+00  0.000000e+00  0.000000e+00       0.000000e+00\n",
       "25%    0.000000e+00  0.000000e+00  1.000000e+01       0.000000e+00\n",
       "50%    0.000000e+00  0.000000e+00  1.990000e+01       0.000000e+00\n",
       "75%    4.400000e+00  4.400000e+01  4.771000e+01       0.000000e+00\n",
       "max    5.000000e+00  1.356658e+06  1.000000e+05       5.000000e+04"
      ]
     },
     "execution_count": 5,
     "metadata": {},
     "output_type": "execute_result"
    }
   ],
   "source": [
    "dataset.describe()"
   ]
  },
  {
   "cell_type": "code",
   "execution_count": 6,
   "metadata": {},
   "outputs": [
    {
     "name": "stdout",
     "output_type": "stream",
     "text": [
      "<class 'pandas.core.frame.DataFrame'>\n",
      "RangeIndex: 2222742 entries, 0 to 2222741\n",
      "Data columns (total 10 columns):\n",
      " #   Column             Dtype  \n",
      "---  ------             -----  \n",
      " 0   asin               object \n",
      " 1   title              object \n",
      " 2   imgUrl             object \n",
      " 3   productURL         object \n",
      " 4   stars              float64\n",
      " 5   reviews            int64  \n",
      " 6   price              float64\n",
      " 7   isBestSeller       bool   \n",
      " 8   boughtInLastMonth  int64  \n",
      " 9   categoryName       object \n",
      "dtypes: bool(1), float64(2), int64(2), object(5)\n",
      "memory usage: 154.7+ MB\n"
     ]
    }
   ],
   "source": [
    "dataset.info()\n"
   ]
  },
  {
   "cell_type": "code",
   "execution_count": 7,
   "metadata": {},
   "outputs": [
    {
     "name": "stdout",
     "output_type": "stream",
     "text": [
      "unique categories are:  296\n",
      "unique ASIN are: 2.22 M\n"
     ]
    }
   ],
   "source": [
    "print(\"unique categories are: \",len(dataset['categoryName'].unique()))\n",
    "print(\"unique ASIN are:\",round(len(dataset['asin'].unique())/1000000,2),\"M\")\n"
   ]
  },
  {
   "cell_type": "code",
   "execution_count": 9,
   "metadata": {},
   "outputs": [
    {
     "data": {
      "text/plain": [
       "0    10\n",
       "Name: boughtInLastMonth, dtype: int64"
      ]
     },
     "execution_count": 9,
     "metadata": {},
     "output_type": "execute_result"
    }
   ],
   "source": [
    "dataset[dataset['reviews'] == dataset['reviews'].max()]['boughtInLastMonth'].value_counts()"
   ]
  },
  {
   "cell_type": "code",
   "execution_count": 10,
   "metadata": {},
   "outputs": [
    {
     "data": {
      "text/html": [
       "<div>\n",
       "<style scoped>\n",
       "    .dataframe tbody tr th:only-of-type {\n",
       "        vertical-align: middle;\n",
       "    }\n",
       "\n",
       "    .dataframe tbody tr th {\n",
       "        vertical-align: top;\n",
       "    }\n",
       "\n",
       "    .dataframe thead th {\n",
       "        text-align: right;\n",
       "    }\n",
       "</style>\n",
       "<table border=\"1\" class=\"dataframe\">\n",
       "  <thead>\n",
       "    <tr style=\"text-align: right;\">\n",
       "      <th></th>\n",
       "      <th>asin</th>\n",
       "      <th>title</th>\n",
       "      <th>imgUrl</th>\n",
       "      <th>productURL</th>\n",
       "      <th>stars</th>\n",
       "      <th>reviews</th>\n",
       "      <th>price</th>\n",
       "      <th>isBestSeller</th>\n",
       "      <th>boughtInLastMonth</th>\n",
       "      <th>categoryName</th>\n",
       "    </tr>\n",
       "  </thead>\n",
       "  <tbody>\n",
       "    <tr>\n",
       "      <th>205639</th>\n",
       "      <td>B001MZV3OO</td>\n",
       "      <td>Catsan Hygiene Cat Litter 20L</td>\n",
       "      <td>https://m.media-amazon.com/images/I/71bURZaHfF...</td>\n",
       "      <td>https://www.amazon.co.uk/dp/B001MZV3OO</td>\n",
       "      <td>4.7</td>\n",
       "      <td>31204</td>\n",
       "      <td>14.99</td>\n",
       "      <td>False</td>\n",
       "      <td>50000</td>\n",
       "      <td>Pet Supplies</td>\n",
       "    </tr>\n",
       "    <tr>\n",
       "      <th>1557617</th>\n",
       "      <td>B004OCO20E</td>\n",
       "      <td>Andrex Gentle Clean Toilet Rolls - 45 Toilet R...</td>\n",
       "      <td>https://m.media-amazon.com/images/I/81K5VbVsCx...</td>\n",
       "      <td>https://www.amazon.co.uk/dp/B004OCO20E</td>\n",
       "      <td>4.6</td>\n",
       "      <td>44511</td>\n",
       "      <td>22.22</td>\n",
       "      <td>False</td>\n",
       "      <td>50000</td>\n",
       "      <td>Grocery</td>\n",
       "    </tr>\n",
       "  </tbody>\n",
       "</table>\n",
       "</div>"
      ],
      "text/plain": [
       "               asin                                              title  \\\n",
       "205639   B001MZV3OO                      Catsan Hygiene Cat Litter 20L   \n",
       "1557617  B004OCO20E  Andrex Gentle Clean Toilet Rolls - 45 Toilet R...   \n",
       "\n",
       "                                                    imgUrl  \\\n",
       "205639   https://m.media-amazon.com/images/I/71bURZaHfF...   \n",
       "1557617  https://m.media-amazon.com/images/I/81K5VbVsCx...   \n",
       "\n",
       "                                     productURL  stars  reviews  price  \\\n",
       "205639   https://www.amazon.co.uk/dp/B001MZV3OO    4.7    31204  14.99   \n",
       "1557617  https://www.amazon.co.uk/dp/B004OCO20E    4.6    44511  22.22   \n",
       "\n",
       "         isBestSeller  boughtInLastMonth  categoryName  \n",
       "205639          False              50000  Pet Supplies  \n",
       "1557617         False              50000       Grocery  "
      ]
     },
     "execution_count": 10,
     "metadata": {},
     "output_type": "execute_result"
    }
   ],
   "source": [
    "dataset[dataset['boughtInLastMonth']==dataset['boughtInLastMonth'].max()]"
   ]
  },
  {
   "cell_type": "code",
   "execution_count": 15,
   "metadata": {},
   "outputs": [
    {
     "data": {
      "text/plain": [
       "50       63601\n",
       "100      44173\n",
       "200      17509\n",
       "300       9523\n",
       "400       5996\n",
       "1000      5424\n",
       "500       4059\n",
       "600       2815\n",
       "700       2030\n",
       "800       1594\n",
       "2000      1521\n",
       "900       1320\n",
       "3000       675\n",
       "4000       348\n",
       "5000       227\n",
       "10000      139\n",
       "6000       136\n",
       "7000        91\n",
       "8000        59\n",
       "9000        56\n",
       "20000       14\n",
       "50000        2\n",
       "30000        2\n",
       "40000        1\n",
       "Name: boughtInLastMonth, dtype: int64"
      ]
     },
     "execution_count": 15,
     "metadata": {},
     "output_type": "execute_result"
    }
   ],
   "source": [
    "dataset[dataset['boughtInLastMonth']!= 0]['boughtInLastMonth'].value_counts()"
   ]
  },
  {
   "cell_type": "code",
   "execution_count": null,
   "metadata": {},
   "outputs": [],
   "source": []
  },
  {
   "cell_type": "code",
   "execution_count": null,
   "metadata": {},
   "outputs": [],
   "source": []
  },
  {
   "cell_type": "code",
   "execution_count": null,
   "metadata": {},
   "outputs": [],
   "source": []
  },
  {
   "cell_type": "code",
   "execution_count": null,
   "metadata": {},
   "outputs": [],
   "source": []
  },
  {
   "cell_type": "code",
   "execution_count": null,
   "metadata": {},
   "outputs": [],
   "source": []
  },
  {
   "cell_type": "code",
   "execution_count": null,
   "metadata": {},
   "outputs": [],
   "source": []
  },
  {
   "cell_type": "code",
   "execution_count": null,
   "metadata": {},
   "outputs": [],
   "source": []
  }
 ],
 "metadata": {
  "kernelspec": {
   "display_name": "Python 3",
   "language": "python",
   "name": "python3"
  },
  "language_info": {
   "codemirror_mode": {
    "name": "ipython",
    "version": 3
   },
   "file_extension": ".py",
   "mimetype": "text/x-python",
   "name": "python",
   "nbconvert_exporter": "python",
   "pygments_lexer": "ipython3",
   "version": "3.10.9"
  }
 },
 "nbformat": 4,
 "nbformat_minor": 2
}
